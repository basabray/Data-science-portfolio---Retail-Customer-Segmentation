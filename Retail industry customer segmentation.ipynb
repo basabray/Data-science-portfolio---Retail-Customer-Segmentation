{
 "cells": [
  {
   "cell_type": "markdown",
   "metadata": {},
   "source": [
    "## Introduction:\n",
    "- Wholesale Customer dataset refers to clients of a wholesale distributor. It includes the annual spending in monetary units (m.u.) on diverse product categories. "
   ]
  },
  {
   "cell_type": "markdown",
   "metadata": {},
   "source": [
    "## Objective:\n",
    "- Perform clustering analysis and provide inferences accordingly."
   ]
  },
  {
   "cell_type": "code",
   "execution_count": 3,
   "metadata": {},
   "outputs": [],
   "source": [
    "#import necessary packages\n",
    "import pandas as pd\n",
    "import matplotlib.pyplot as plt\n",
    "import seaborn as sns\n",
    "from sklearn.preprocessing import StandardScaler\n",
    "from sklearn.cluster import KMeans"
   ]
  },
  {
   "cell_type": "code",
   "execution_count": 4,
   "metadata": {},
   "outputs": [
    {
     "data": {
      "text/html": [
       "<div>\n",
       "<style scoped>\n",
       "    .dataframe tbody tr th:only-of-type {\n",
       "        vertical-align: middle;\n",
       "    }\n",
       "\n",
       "    .dataframe tbody tr th {\n",
       "        vertical-align: top;\n",
       "    }\n",
       "\n",
       "    .dataframe thead th {\n",
       "        text-align: right;\n",
       "    }\n",
       "</style>\n",
       "<table border=\"1\" class=\"dataframe\">\n",
       "  <thead>\n",
       "    <tr style=\"text-align: right;\">\n",
       "      <th></th>\n",
       "      <th>Channel</th>\n",
       "      <th>Region</th>\n",
       "      <th>Fresh</th>\n",
       "      <th>Milk</th>\n",
       "      <th>Grocery</th>\n",
       "      <th>Frozen</th>\n",
       "      <th>Detergents_Paper</th>\n",
       "      <th>Delicassen</th>\n",
       "    </tr>\n",
       "  </thead>\n",
       "  <tbody>\n",
       "    <tr>\n",
       "      <th>0</th>\n",
       "      <td>2</td>\n",
       "      <td>3</td>\n",
       "      <td>12669</td>\n",
       "      <td>9656</td>\n",
       "      <td>7561</td>\n",
       "      <td>214</td>\n",
       "      <td>2674</td>\n",
       "      <td>1338</td>\n",
       "    </tr>\n",
       "    <tr>\n",
       "      <th>1</th>\n",
       "      <td>2</td>\n",
       "      <td>3</td>\n",
       "      <td>7057</td>\n",
       "      <td>9810</td>\n",
       "      <td>9568</td>\n",
       "      <td>1762</td>\n",
       "      <td>3293</td>\n",
       "      <td>1776</td>\n",
       "    </tr>\n",
       "    <tr>\n",
       "      <th>2</th>\n",
       "      <td>2</td>\n",
       "      <td>3</td>\n",
       "      <td>6353</td>\n",
       "      <td>8808</td>\n",
       "      <td>7684</td>\n",
       "      <td>2405</td>\n",
       "      <td>3516</td>\n",
       "      <td>7844</td>\n",
       "    </tr>\n",
       "    <tr>\n",
       "      <th>3</th>\n",
       "      <td>1</td>\n",
       "      <td>3</td>\n",
       "      <td>13265</td>\n",
       "      <td>1196</td>\n",
       "      <td>4221</td>\n",
       "      <td>6404</td>\n",
       "      <td>507</td>\n",
       "      <td>1788</td>\n",
       "    </tr>\n",
       "    <tr>\n",
       "      <th>4</th>\n",
       "      <td>2</td>\n",
       "      <td>3</td>\n",
       "      <td>22615</td>\n",
       "      <td>5410</td>\n",
       "      <td>7198</td>\n",
       "      <td>3915</td>\n",
       "      <td>1777</td>\n",
       "      <td>5185</td>\n",
       "    </tr>\n",
       "  </tbody>\n",
       "</table>\n",
       "</div>"
      ],
      "text/plain": [
       "   Channel  Region  Fresh  Milk  Grocery  Frozen  Detergents_Paper  Delicassen\n",
       "0        2       3  12669  9656     7561     214              2674        1338\n",
       "1        2       3   7057  9810     9568    1762              3293        1776\n",
       "2        2       3   6353  8808     7684    2405              3516        7844\n",
       "3        1       3  13265  1196     4221    6404               507        1788\n",
       "4        2       3  22615  5410     7198    3915              1777        5185"
      ]
     },
     "execution_count": 4,
     "metadata": {},
     "output_type": "execute_result"
    }
   ],
   "source": [
    "#load the data\n",
    "df = pd.read_csv(r'C:\\Users\\91842\\ML Projects\\Retail industry Customer Segmentation\\Wholesale customers data.csv')\n",
    "\n",
    "#display the first 5 records\n",
    "df.head()"
   ]
  },
  {
   "cell_type": "code",
   "execution_count": 3,
   "metadata": {},
   "outputs": [
    {
     "data": {
      "text/plain": [
       "(440, 8)"
      ]
     },
     "execution_count": 3,
     "metadata": {},
     "output_type": "execute_result"
    }
   ],
   "source": [
    "#check the shape\n",
    "df.shape"
   ]
  },
  {
   "cell_type": "code",
   "execution_count": 4,
   "metadata": {},
   "outputs": [
    {
     "data": {
      "text/html": [
       "<div>\n",
       "<style scoped>\n",
       "    .dataframe tbody tr th:only-of-type {\n",
       "        vertical-align: middle;\n",
       "    }\n",
       "\n",
       "    .dataframe tbody tr th {\n",
       "        vertical-align: top;\n",
       "    }\n",
       "\n",
       "    .dataframe thead th {\n",
       "        text-align: right;\n",
       "    }\n",
       "</style>\n",
       "<table border=\"1\" class=\"dataframe\">\n",
       "  <thead>\n",
       "    <tr style=\"text-align: right;\">\n",
       "      <th></th>\n",
       "      <th>Channel</th>\n",
       "      <th>Region</th>\n",
       "      <th>Fresh</th>\n",
       "      <th>Milk</th>\n",
       "      <th>Grocery</th>\n",
       "      <th>Frozen</th>\n",
       "      <th>Detergents_Paper</th>\n",
       "      <th>Delicassen</th>\n",
       "    </tr>\n",
       "  </thead>\n",
       "  <tbody>\n",
       "    <tr>\n",
       "      <th>count</th>\n",
       "      <td>440.000000</td>\n",
       "      <td>440.000000</td>\n",
       "      <td>440.000000</td>\n",
       "      <td>440.000000</td>\n",
       "      <td>440.000000</td>\n",
       "      <td>440.000000</td>\n",
       "      <td>440.000000</td>\n",
       "      <td>440.000000</td>\n",
       "    </tr>\n",
       "    <tr>\n",
       "      <th>mean</th>\n",
       "      <td>1.322727</td>\n",
       "      <td>2.543182</td>\n",
       "      <td>12000.297727</td>\n",
       "      <td>5796.265909</td>\n",
       "      <td>7951.277273</td>\n",
       "      <td>3071.931818</td>\n",
       "      <td>2881.493182</td>\n",
       "      <td>1524.870455</td>\n",
       "    </tr>\n",
       "    <tr>\n",
       "      <th>std</th>\n",
       "      <td>0.468052</td>\n",
       "      <td>0.774272</td>\n",
       "      <td>12647.328865</td>\n",
       "      <td>7380.377175</td>\n",
       "      <td>9503.162829</td>\n",
       "      <td>4854.673333</td>\n",
       "      <td>4767.854448</td>\n",
       "      <td>2820.105937</td>\n",
       "    </tr>\n",
       "    <tr>\n",
       "      <th>min</th>\n",
       "      <td>1.000000</td>\n",
       "      <td>1.000000</td>\n",
       "      <td>3.000000</td>\n",
       "      <td>55.000000</td>\n",
       "      <td>3.000000</td>\n",
       "      <td>25.000000</td>\n",
       "      <td>3.000000</td>\n",
       "      <td>3.000000</td>\n",
       "    </tr>\n",
       "    <tr>\n",
       "      <th>25%</th>\n",
       "      <td>1.000000</td>\n",
       "      <td>2.000000</td>\n",
       "      <td>3127.750000</td>\n",
       "      <td>1533.000000</td>\n",
       "      <td>2153.000000</td>\n",
       "      <td>742.250000</td>\n",
       "      <td>256.750000</td>\n",
       "      <td>408.250000</td>\n",
       "    </tr>\n",
       "    <tr>\n",
       "      <th>50%</th>\n",
       "      <td>1.000000</td>\n",
       "      <td>3.000000</td>\n",
       "      <td>8504.000000</td>\n",
       "      <td>3627.000000</td>\n",
       "      <td>4755.500000</td>\n",
       "      <td>1526.000000</td>\n",
       "      <td>816.500000</td>\n",
       "      <td>965.500000</td>\n",
       "    </tr>\n",
       "    <tr>\n",
       "      <th>75%</th>\n",
       "      <td>2.000000</td>\n",
       "      <td>3.000000</td>\n",
       "      <td>16933.750000</td>\n",
       "      <td>7190.250000</td>\n",
       "      <td>10655.750000</td>\n",
       "      <td>3554.250000</td>\n",
       "      <td>3922.000000</td>\n",
       "      <td>1820.250000</td>\n",
       "    </tr>\n",
       "    <tr>\n",
       "      <th>max</th>\n",
       "      <td>2.000000</td>\n",
       "      <td>3.000000</td>\n",
       "      <td>112151.000000</td>\n",
       "      <td>73498.000000</td>\n",
       "      <td>92780.000000</td>\n",
       "      <td>60869.000000</td>\n",
       "      <td>40827.000000</td>\n",
       "      <td>47943.000000</td>\n",
       "    </tr>\n",
       "  </tbody>\n",
       "</table>\n",
       "</div>"
      ],
      "text/plain": [
       "          Channel      Region          Fresh          Milk       Grocery  \\\n",
       "count  440.000000  440.000000     440.000000    440.000000    440.000000   \n",
       "mean     1.322727    2.543182   12000.297727   5796.265909   7951.277273   \n",
       "std      0.468052    0.774272   12647.328865   7380.377175   9503.162829   \n",
       "min      1.000000    1.000000       3.000000     55.000000      3.000000   \n",
       "25%      1.000000    2.000000    3127.750000   1533.000000   2153.000000   \n",
       "50%      1.000000    3.000000    8504.000000   3627.000000   4755.500000   \n",
       "75%      2.000000    3.000000   16933.750000   7190.250000  10655.750000   \n",
       "max      2.000000    3.000000  112151.000000  73498.000000  92780.000000   \n",
       "\n",
       "             Frozen  Detergents_Paper    Delicassen  \n",
       "count    440.000000        440.000000    440.000000  \n",
       "mean    3071.931818       2881.493182   1524.870455  \n",
       "std     4854.673333       4767.854448   2820.105937  \n",
       "min       25.000000          3.000000      3.000000  \n",
       "25%      742.250000        256.750000    408.250000  \n",
       "50%     1526.000000        816.500000    965.500000  \n",
       "75%     3554.250000       3922.000000   1820.250000  \n",
       "max    60869.000000      40827.000000  47943.000000  "
      ]
     },
     "execution_count": 4,
     "metadata": {},
     "output_type": "execute_result"
    }
   ],
   "source": [
    "#describe the data\n",
    "df.describe()"
   ]
  },
  {
   "cell_type": "markdown",
   "metadata": {},
   "source": [
    "- As expected, the spending amount across different product category is varying a lot. "
   ]
  },
  {
   "cell_type": "code",
   "execution_count": 5,
   "metadata": {},
   "outputs": [
    {
     "data": {
      "text/plain": [
       "Channel             0\n",
       "Region              0\n",
       "Fresh               0\n",
       "Milk                0\n",
       "Grocery             0\n",
       "Frozen              0\n",
       "Detergents_Paper    0\n",
       "Delicassen          0\n",
       "dtype: int64"
      ]
     },
     "execution_count": 5,
     "metadata": {},
     "output_type": "execute_result"
    }
   ],
   "source": [
    "#missing values check\n",
    "df.isnull().sum()"
   ]
  },
  {
   "cell_type": "markdown",
   "metadata": {},
   "source": [
    "#### Data pre-processing:"
   ]
  },
  {
   "cell_type": "code",
   "execution_count": 5,
   "metadata": {},
   "outputs": [],
   "source": [
    "x_scalar = StandardScaler()\n",
    "x_scaled = x_scalar.fit_transform(df)"
   ]
  },
  {
   "cell_type": "markdown",
   "metadata": {},
   "source": [
    "#### Find the optimal no of clusters using Elbow method"
   ]
  },
  {
   "cell_type": "code",
   "execution_count": 6,
   "metadata": {},
   "outputs": [
    {
     "name": "stderr",
     "output_type": "stream",
     "text": [
      "C:\\Users\\91842\\anaconda3\\lib\\site-packages\\sklearn\\cluster\\_kmeans.py:882: UserWarning: KMeans is known to have a memory leak on Windows with MKL, when there are less chunks than available threads. You can avoid it by setting the environment variable OMP_NUM_THREADS=2.\n",
      "  f\"KMeans is known to have a memory leak on Windows \"\n"
     ]
    },
    {
     "data": {
      "image/png": "[encoded data removed]",
      "text/plain": [
       "<Figure size 432x288 with 1 Axes>"
      ]
     },
     "metadata": {
      "needs_background": "light"
     },
     "output_type": "display_data"
    }
   ],
   "source": [
    "#elbow method\n",
    "from sklearn.cluster import KMeans\n",
    "wcss=[]\n",
    "for i in range (1,11):\n",
    "    kmeans=KMeans(n_clusters=i,init='k-means++',random_state=42)\n",
    "    kmeans.fit(x_scaled)\n",
    "    wcss.append(kmeans.inertia_)\n",
    "plt.plot(range(1,11),wcss)\n",
    "plt.title('The Elbow Method')\n",
    "plt.xlabel('Number of clusters')\n",
    "plt.ylabel('WCSS')\n",
    "plt.show()"
   ]
  },
  {
   "cell_type": "markdown",
   "metadata": {},
   "source": [
    "Note:\n",
    "- The imporatnt thing to note here is that, in most of the real-time clustering problems the decision of selecting the number of the clusters may not simply be a straight forward technique. \n",
    "- Rather, it may depend on various factors such as the problem statement, the data, the domain of study, the business need etc."
   ]
  },
  {
   "cell_type": "markdown",
   "metadata": {},
   "source": [
    "#### Model buidling:"
   ]
  },
  {
   "cell_type": "code",
   "execution_count": 6,
   "metadata": {},
   "outputs": [
    {
     "data": {
      "text/html": [
       "<div>\n",
       "<style scoped>\n",
       "    .dataframe tbody tr th:only-of-type {\n",
       "        vertical-align: middle;\n",
       "    }\n",
       "\n",
       "    .dataframe tbody tr th {\n",
       "        vertical-align: top;\n",
       "    }\n",
       "\n",
       "    .dataframe thead th {\n",
       "        text-align: right;\n",
       "    }\n",
       "</style>\n",
       "<table border=\"1\" class=\"dataframe\">\n",
       "  <thead>\n",
       "    <tr style=\"text-align: right;\">\n",
       "      <th></th>\n",
       "      <th>Channel</th>\n",
       "      <th>Region</th>\n",
       "      <th>Fresh</th>\n",
       "      <th>Milk</th>\n",
       "      <th>Grocery</th>\n",
       "      <th>Frozen</th>\n",
       "      <th>Detergents_Paper</th>\n",
       "      <th>Delicassen</th>\n",
       "      <th>Cluster</th>\n",
       "    </tr>\n",
       "  </thead>\n",
       "  <tbody>\n",
       "    <tr>\n",
       "      <th>0</th>\n",
       "      <td>2</td>\n",
       "      <td>3</td>\n",
       "      <td>12669</td>\n",
       "      <td>9656</td>\n",
       "      <td>7561</td>\n",
       "      <td>214</td>\n",
       "      <td>2674</td>\n",
       "      <td>1338</td>\n",
       "      <td>2</td>\n",
       "    </tr>\n",
       "    <tr>\n",
       "      <th>1</th>\n",
       "      <td>2</td>\n",
       "      <td>3</td>\n",
       "      <td>7057</td>\n",
       "      <td>9810</td>\n",
       "      <td>9568</td>\n",
       "      <td>1762</td>\n",
       "      <td>3293</td>\n",
       "      <td>1776</td>\n",
       "      <td>2</td>\n",
       "    </tr>\n",
       "    <tr>\n",
       "      <th>2</th>\n",
       "      <td>2</td>\n",
       "      <td>3</td>\n",
       "      <td>6353</td>\n",
       "      <td>8808</td>\n",
       "      <td>7684</td>\n",
       "      <td>2405</td>\n",
       "      <td>3516</td>\n",
       "      <td>7844</td>\n",
       "      <td>2</td>\n",
       "    </tr>\n",
       "    <tr>\n",
       "      <th>3</th>\n",
       "      <td>1</td>\n",
       "      <td>3</td>\n",
       "      <td>13265</td>\n",
       "      <td>1196</td>\n",
       "      <td>4221</td>\n",
       "      <td>6404</td>\n",
       "      <td>507</td>\n",
       "      <td>1788</td>\n",
       "      <td>0</td>\n",
       "    </tr>\n",
       "    <tr>\n",
       "      <th>4</th>\n",
       "      <td>2</td>\n",
       "      <td>3</td>\n",
       "      <td>22615</td>\n",
       "      <td>5410</td>\n",
       "      <td>7198</td>\n",
       "      <td>3915</td>\n",
       "      <td>1777</td>\n",
       "      <td>5185</td>\n",
       "      <td>2</td>\n",
       "    </tr>\n",
       "  </tbody>\n",
       "</table>\n",
       "</div>"
      ],
      "text/plain": [
       "   Channel  Region  Fresh  Milk  Grocery  Frozen  Detergents_Paper  \\\n",
       "0        2       3  12669  9656     7561     214              2674   \n",
       "1        2       3   7057  9810     9568    1762              3293   \n",
       "2        2       3   6353  8808     7684    2405              3516   \n",
       "3        1       3  13265  1196     4221    6404               507   \n",
       "4        2       3  22615  5410     7198    3915              1777   \n",
       "\n",
       "   Delicassen  Cluster  \n",
       "0        1338        2  \n",
       "1        1776        2  \n",
       "2        7844        2  \n",
       "3        1788        0  \n",
       "4        5185        2  "
      ]
     },
     "execution_count": 6,
     "metadata": {},
     "output_type": "execute_result"
    }
   ],
   "source": [
    "#create instantce of cluters\n",
    "cluster_model1 = KMeans(n_clusters=3)\n",
    "\n",
    "#fit the model with the scaled data\n",
    "cluster_model1.fit(x_scaled)\n",
    "\n",
    "#use the 'labels_' attribute of the model to label all the data to it's specific cluster\n",
    "#And store the data in the dataframe\n",
    "df['Cluster'] = cluster_model1.labels_\n",
    "\n",
    "#make predictions\n",
    "predictions = cluster_model1.predict(x_scaled)\n",
    "\n",
    "#check the data\n",
    "df.head()"
   ]
  },
  {
   "cell_type": "code",
   "execution_count": 13,
   "metadata": {},
   "outputs": [
    {
     "name": "stdout",
     "output_type": "stream",
     "text": [
      "Total data points assigned to Cluster0: 297\n",
      "Total data points assigned to Cluster1: 13\n",
      "Total data points assigned to Cluster2: 130\n"
     ]
    }
   ],
   "source": [
    "print('Total data points assigned to Cluster0:', df[df['Cluster']==0].shape[0])\n",
    "print('Total data points assigned to Cluster1:', df[df['Cluster']==1].shape[0])\n",
    "print('Total data points assigned to Cluster2:', df[df['Cluster']==2].shape[0])"
   ]
  },
  {
   "cell_type": "markdown",
   "metadata": {},
   "source": [
    "#### Cluster Visualization:"
   ]
  },
  {
   "cell_type": "code",
   "execution_count": 9,
   "metadata": {},
   "outputs": [
    {
     "data": {
      "image/png": "[encoded data removed]",
      "text/plain": [
       "<Figure size 1872x432 with 1 Axes>"
      ]
     },
     "metadata": {
      "needs_background": "light"
     },
     "output_type": "display_data"
    }
   ],
   "source": [
    "#plot teh clusters:\n",
    "import mpl_toolkits\n",
    "from mpl_toolkits.mplot3d import Axes3D\n",
    "#%matplotlib widget\n",
    "colors = ['#DF2020', '#81DF20', '#2095DF']\n",
    "kmeans = KMeans(n_clusters=3, random_state=0)\n",
    "df['cluster'] = kmeans.fit_predict(df[['Grocery', 'Delicassen', 'Fresh']])\n",
    "df['c'] = df.Cluster.map({0:colors[0], 1:colors[1], 2:colors[2]})\n",
    "fig = plt.figure(figsize=(26,6))\n",
    "ax = fig.add_subplot(131, projection='3d')\n",
    "ax.scatter(df.Grocery, df.Delicassen, df.Fresh, c=df.c, s=15)\n",
    "ax.set_xlabel('Grocery')\n",
    "ax.set_ylabel('Delicassen')\n",
    "ax.set_zlabel('Fresh')\n",
    "plt.show()"
   ]
  },
  {
   "cell_type": "code",
   "execution_count": 14,
   "metadata": {},
   "outputs": [
    {
     "data": {
      "image/png": "[encoded data removed]",
      "text/plain": [
       "<Figure size 432x288 with 1 Axes>"
      ]
     },
     "metadata": {
      "needs_background": "light"
     },
     "output_type": "display_data"
    }
   ],
   "source": [
    "# Fitting K-Means to the dataset\n",
    "plt.plot(predictions, 'g^')\n",
    "plt.show()"
   ]
  },
  {
   "cell_type": "markdown",
   "metadata": {},
   "source": [
    "Observations:\n",
    "- Most of the customers belong to Cluster# 0 & 2\n",
    "- Whereas, there are very few customers that belowg to cluster# 1\n",
    "\n",
    "Probable actions based on observations:\n",
    "- Retail industry is very competitive, and companies are trying to exploit new market opportunities, the wholesaler may want to to acquire customers in the customer segment1 using suitable strategic actions- sales and marketing efforts, promotions, discounts etc.\n",
    "- Customer segment # 0 & 2 may have opportunities for growth and future expansion."
   ]
  },
  {
   "cell_type": "markdown",
   "metadata": {},
   "source": [
    "#### Know Your Customers: "
   ]
  },
  {
   "cell_type": "code",
   "execution_count": 9,
   "metadata": {},
   "outputs": [
    {
     "name": "stdout",
     "output_type": "stream",
     "text": [
      "Cluster# 0 Customer Channel information: \n",
      "          Cluster\n",
      "Channel         \n",
      "1            295\n",
      "2              1\n",
      "*****************************************\n",
      "Cluster# 1 Customer Channel information: \n",
      "          Cluster\n",
      "Channel         \n",
      "1              3\n",
      "2             11\n",
      "*****************************************\n",
      "Cluster# 2 Customer Channel information: \n",
      "          Cluster\n",
      "Channel         \n",
      "2            130\n",
      "*****************************************\n"
     ]
    }
   ],
   "source": [
    "Customer_segments_0 = df[df[\"Cluster\"] == 0]\n",
    "print('Cluster# 0 Customer Channel information:','\\n',Customer_segments_0.groupby('Channel').agg({'Cluster':'count'}))\n",
    "print('*****************************************')\n",
    "\n",
    "Customer_segments_1 = df[df[\"Cluster\"] == 1]\n",
    "print('Cluster# 1 Customer Channel information:','\\n',Customer_segments_1.groupby('Channel').agg({'Cluster':'count'}))\n",
    "print('*****************************************')\n",
    "\n",
    "Customer_segments_2 = df[df[\"Cluster\"] == 2]\n",
    "print('Cluster# 2 Customer Channel information:','\\n',Customer_segments_2.groupby('Channel').agg({'Cluster':'count'}))\n",
    "print('*****************************************')"
   ]
  },
  {
   "cell_type": "markdown",
   "metadata": {},
   "source": [
    "### Inferences Based On Customer Segments/Clusters:"
   ]
  },
  {
   "cell_type": "markdown",
   "metadata": {},
   "source": [
    "##### 1. Channel-wise customer segments:\n",
    "- Channel1 : Hotels/Restaurants/Café etc (B2B)\n",
    "- Channel2 : Retail customers/Individual buyers (B2C) "
   ]
  },
  {
   "cell_type": "code",
   "execution_count": 15,
   "metadata": {},
   "outputs": [
    {
     "data": {
      "image/png": "[encoded data removed]",
      "text/plain": [
       "<Figure size 1008x720 with 3 Axes>"
      ]
     },
     "metadata": {},
     "output_type": "display_data"
    }
   ],
   "source": [
    "plt.subplot(331)\n",
    "plt.title('Customer segment1')\n",
    "Output = None\n",
    "(Customer_segments_0['Channel'].value_counts() * 100 / len(df)).plot.pie(autopct='%1.2f%%', shadow=True, figsize=(14, 10));\n",
    "\n",
    "\n",
    "plt.subplot(332)\n",
    "plt.title('Customer segment2')\n",
    "Output = None\n",
    "(Customer_segments_1['Channel'].value_counts() * 100 / len(df)).plot.pie(autopct='%1.2f%%', shadow=True, figsize=(14, 10));\n",
    "\n",
    "\n",
    "plt.subplot(333)\n",
    "plt.title('Customer segment3')\n",
    "Output = None\n",
    "(Customer_segments_2['Channel'].value_counts() * 100 / len(df)).plot.pie(autopct='%1.2f%%', shadow=True, figsize=(14, 10));\n"
   ]
  },
  {
   "cell_type": "markdown",
   "metadata": {},
   "source": [
    "Observations:\n",
    "- `Cluster1: 99.66% belong the Channel1, i.e Hotels/Restaurants/Café etc (B2B)`\n",
    "- `Cluster2: There are some overlap present in this cluster. Most of the customers are of type Channel1 and rest are of type Channel2 (79% B2B and 21% B2C)`\n",
    "- `Cluster3: 100% belong the Channel2, i.e the retail customers or the individual buyers (B2C)`"
   ]
  },
  {
   "cell_type": "markdown",
   "metadata": {},
   "source": [
    "#### 2. Now let's retrieve insights on customer segment1: Cluster# 0 (B2B Customers)\n",
    "\n",
    "Questions to be answered in this section:\n",
    "- Which region has the most of the business cutomers?\n",
    "- For which product category the annual expenditure is the highest for business customers?\n",
    "- How the buying patterns look like for the business customers for each product category? \n",
    "- Is their any similarity among their buying patterns?"
   ]
  },
  {
   "cell_type": "markdown",
   "metadata": {},
   "source": [
    "###### B2B Customers Region-wise:"
   ]
  },
  {
   "cell_type": "code",
   "execution_count": 46,
   "metadata": {},
   "outputs": [
    {
     "data": {
      "image/png": "[encoded data removed]",
      "text/plain": [
       "<Figure size 360x360 with 1 Axes>"
      ]
     },
     "metadata": {},
     "output_type": "display_data"
    }
   ],
   "source": [
    "plt.figure(figsize=(5,5))\n",
    "(Customer_segments_0['Region'].value_counts() * 100 / len(df)).plot.pie(autopct='%1.2f%%', shadow=True);"
   ]
  },
  {
   "cell_type": "markdown",
   "metadata": {},
   "source": [
    "Observations:\n",
    "- Business customers belong to different regions. \n",
    "- Among all the regions 'Oporto' has the lowest numebr of such customers. As expansion strategy our client can look for more customers in this region after giving due diligence for the points such as - research  if the market is whether saturated in that region or not, research about the existing competitors in that region, population growth in that area etc. "
   ]
  },
  {
   "cell_type": "markdown",
   "metadata": {},
   "source": [
    "##### B2B Customers annual spending on daily essential items : Fresh, Milk & Grocery"
   ]
  },
  {
   "cell_type": "code",
   "execution_count": 35,
   "metadata": {},
   "outputs": [
    {
     "data": {
      "image/png": "[encoded data removed]",
      "text/plain": [
       "<Figure size 864x720 with 3 Axes>"
      ]
     },
     "metadata": {
      "needs_background": "light"
     },
     "output_type": "display_data"
    }
   ],
   "source": [
    "plt.subplot(331)\n",
    "plt.title('Fresh')\n",
    "Output = None\n",
    "Customer_segments_0[\"Fresh\"].plot(kind = \"hist\", bins = 10, figsize=(12,10))\n",
    "\n",
    "plt.subplot(332)\n",
    "plt.title('Grocery')\n",
    "Output = None\n",
    "Customer_segments_0[\"Grocery\"].plot(kind = \"hist\", bins = 10, figsize=(12,10))\n",
    "\n",
    "plt.subplot(333)\n",
    "plt.title('Milk')\n",
    "Output = None\n",
    "Customer_segments_0[\"Milk\"].plot(kind = \"hist\", bins = 10, figsize=(12,10))\n",
    "plt.tight_layout()"
   ]
  },
  {
   "cell_type": "markdown",
   "metadata": {},
   "source": [
    "Observations:\n",
    "- Among all the essential product categories the average annual spending looks significantly high for 'Fresh' items in comparison to other items. Which is of no surprise because Hotel/Restaurant/Cafe etc need fresh vegetables/fruits on daily basis for food preparation."
   ]
  },
  {
   "cell_type": "markdown",
   "metadata": {},
   "source": [
    "Strategy:\n",
    "- The wholesaler can attract more business customers by giving discounts on fresh items seasonaly.\n",
    "- If I run a busy restaurant, buying food in bulk often means I can get discounted prices from my distributors/vendor partners. This in turn means I can offer competitive prices to my customers. Which will be a win-win for both the wholesaler as well as me."
   ]
  },
  {
   "cell_type": "markdown",
   "metadata": {},
   "source": [
    "###### B2B Customers annual spending on Frozen or Ready-to-eat items:  Frozen, Delicassen"
   ]
  },
  {
   "cell_type": "code",
   "execution_count": 31,
   "metadata": {},
   "outputs": [
    {
     "data": {
      "text/html": [
       "<div>\n",
       "<style scoped>\n",
       "    .dataframe tbody tr th:only-of-type {\n",
       "        vertical-align: middle;\n",
       "    }\n",
       "\n",
       "    .dataframe tbody tr th {\n",
       "        vertical-align: top;\n",
       "    }\n",
       "\n",
       "    .dataframe thead th {\n",
       "        text-align: right;\n",
       "    }\n",
       "</style>\n",
       "<table border=\"1\" class=\"dataframe\">\n",
       "  <thead>\n",
       "    <tr style=\"text-align: right;\">\n",
       "      <th></th>\n",
       "      <th>Frozen</th>\n",
       "      <th>Delicassen</th>\n",
       "    </tr>\n",
       "    <tr>\n",
       "      <th>Region</th>\n",
       "      <th></th>\n",
       "      <th></th>\n",
       "    </tr>\n",
       "  </thead>\n",
       "  <tbody>\n",
       "    <tr>\n",
       "      <th>2</th>\n",
       "      <td>5945.517241</td>\n",
       "      <td>1187.965517</td>\n",
       "    </tr>\n",
       "    <tr>\n",
       "      <th>3</th>\n",
       "      <td>3436.971292</td>\n",
       "      <td>1262.511962</td>\n",
       "    </tr>\n",
       "    <tr>\n",
       "      <th>1</th>\n",
       "      <td>3127.322034</td>\n",
       "      <td>1197.152542</td>\n",
       "    </tr>\n",
       "  </tbody>\n",
       "</table>\n",
       "</div>"
      ],
      "text/plain": [
       "             Frozen   Delicassen\n",
       "Region                          \n",
       "2       5945.517241  1187.965517\n",
       "3       3436.971292  1262.511962\n",
       "1       3127.322034  1197.152542"
      ]
     },
     "execution_count": 31,
     "metadata": {},
     "output_type": "execute_result"
    }
   ],
   "source": [
    "Customer_segments_0.groupby('Region').agg({'Frozen':'mean','Delicassen':'mean'}).sort_values(by=['Frozen','Delicassen'], ascending=False)"
   ]
  },
  {
   "cell_type": "code",
   "execution_count": 36,
   "metadata": {},
   "outputs": [
    {
     "data": {
      "text/plain": [
       "<AxesSubplot:title={'center':'Ready-To-Eat'}, ylabel='Frequency'>"
      ]
     },
     "execution_count": 36,
     "metadata": {},
     "output_type": "execute_result"
    },
    {
     "data": {
      "image/png": "[encoded data removed]",
      "text/plain": [
       "<Figure size 1008x720 with 2 Axes>"
      ]
     },
     "metadata": {
      "needs_background": "light"
     },
     "output_type": "display_data"
    }
   ],
   "source": [
    "plt.subplot(331)\n",
    "plt.title('Frozen')\n",
    "Output = None\n",
    "Customer_segments_0[\"Frozen\"].plot(kind = \"hist\", bins = 10, figsize=(14,10))\n",
    "\n",
    "plt.subplot(332)\n",
    "plt.title('Ready-To-Eat')\n",
    "Output = None\n",
    "Customer_segments_0[\"Delicassen\"].plot(kind = \"hist\", bins = 10, figsize=(14,10))"
   ]
  },
  {
   "cell_type": "markdown",
   "metadata": {},
   "source": [
    "Observation:\n",
    "- As expected, the annual spending for 'Delicassen' or Ready-to-eat items for business customers is very low. "
   ]
  },
  {
   "attachments": {},
   "cell_type": "markdown",
   "metadata": {},
   "source": [
    "#### 3. Now let's retrieve insights on customer segment2: Cluster# 2 (B2C Customers)\n",
    "\n",
    "Questions to be answered in this section:\n",
    "- Is there scope of business expansion according to Region of the customers?\n",
    "- What insights we can get from the purchase patterns based on product categories (Essential items)?\n",
    "- What insights we can get from the purchase patterns based on product categories (Frozen items/Ready-to-eat items)?"
   ]
  },
  {
   "cell_type": "markdown",
   "metadata": {},
   "source": [
    "###### B2C Customers Region-wise:"
   ]
  },
  {
   "cell_type": "code",
   "execution_count": 38,
   "metadata": {},
   "outputs": [
    {
     "data": {
      "text/plain": [
       "<AxesSubplot:ylabel='Region'>"
      ]
     },
     "execution_count": 38,
     "metadata": {},
     "output_type": "execute_result"
    },
    {
     "data": {
      "image/png": "[encoded data removed]",
      "text/plain": [
       "<Figure size 360x360 with 1 Axes>"
      ]
     },
     "metadata": {},
     "output_type": "display_data"
    }
   ],
   "source": [
    "plt.figure(figsize=(5,5))\n",
    "(Customer_segments_2['Region'].value_counts() * 100 / len(df)).plot.pie(autopct='%1.2f%%', shadow=True)"
   ]
  },
  {
   "cell_type": "markdown",
   "metadata": {},
   "source": [
    "Observation:\n",
    "- Retail customers/individual buyers belong to different regions.\n",
    "- The wholesaler may want to expand it's business in region 2 and 1 (Lisbon and Opporto). "
   ]
  },
  {
   "cell_type": "markdown",
   "metadata": {},
   "source": [
    "Startagey/plan of actions:\n",
    "- Research that specific region's market share by the wholesaler and it's competitors. \n",
    "- Region specific research on customers average income, customized offers, customized service like home delivery option, sales promotions, focus on advertisements, feedback from customters etc."
   ]
  },
  {
   "cell_type": "markdown",
   "metadata": {},
   "source": [
    "###### B2C Customers  annual spending on daily essential items : Fresh, Milk & Grocery"
   ]
  },
  {
   "cell_type": "code",
   "execution_count": 40,
   "metadata": {},
   "outputs": [
    {
     "data": {
      "image/png": "[encoded data removed]",
      "text/plain": [
       "<Figure size 1008x720 with 3 Axes>"
      ]
     },
     "metadata": {
      "needs_background": "light"
     },
     "output_type": "display_data"
    }
   ],
   "source": [
    "plt.subplot(331)\n",
    "plt.title('Fresh')\n",
    "Output = None\n",
    "Customer_segments_2[\"Fresh\"].plot(kind = \"hist\", bins = 10, figsize=(14,10))\n",
    "\n",
    "plt.subplot(332)\n",
    "plt.title('Grocery')\n",
    "Output = None\n",
    "Customer_segments_2[\"Grocery\"].plot(kind = \"hist\", bins = 10, figsize=(14,10))\n",
    "\n",
    "plt.subplot(333)\n",
    "plt.title('Milk')\n",
    "Output = None\n",
    "Customer_segments_2[\"Milk\"].plot(kind = \"hist\", bins = 10, figsize=(14,10))\n",
    "plt.tight_layout()"
   ]
  },
  {
   "cell_type": "markdown",
   "metadata": {},
   "source": [
    "Observations:\n",
    "- Among all the essential product categories the average annual spending looks significantly high for 'Grocery' items and 'Milk' in comparison to 'Fresh' items.\n"
   ]
  },
  {
   "cell_type": "markdown",
   "metadata": {},
   "source": [
    "###### B2C Customers  annual spending on daily non-essential items : Frozen, Ready-to-eat"
   ]
  },
  {
   "cell_type": "code",
   "execution_count": 43,
   "metadata": {},
   "outputs": [
    {
     "data": {
      "text/plain": [
       "<AxesSubplot:title={'center':'Ready-To-Eat'}, ylabel='Frequency'>"
      ]
     },
     "execution_count": 43,
     "metadata": {},
     "output_type": "execute_result"
    },
    {
     "data": {
      "image/png": "[encoded data removed]",
      "text/plain": [
       "<Figure size 1008x720 with 2 Axes>"
      ]
     },
     "metadata": {
      "needs_background": "light"
     },
     "output_type": "display_data"
    }
   ],
   "source": [
    "plt.subplot(331)\n",
    "plt.title('Frozen')\n",
    "Output = None\n",
    "Customer_segments_2[\"Frozen\"].plot(kind = \"hist\", bins = 10, figsize=(14,10))\n",
    "\n",
    "plt.subplot(332)\n",
    "plt.title('Ready-To-Eat')\n",
    "Output = None\n",
    "Customer_segments_2[\"Delicassen\"].plot(kind = \"hist\", bins = 10, figsize=(14,10))"
   ]
  },
  {
   "cell_type": "markdown",
   "metadata": {},
   "source": [
    "Observation:\n",
    "- In comparison to business customers, the retail custmers spend significantly high amount on ready-to-eat products.\n",
    "- But Frozen items are consumed by both the type of the customers. The only difference is that there are very few business cutomers who spend significantly high amount for Frozen items. \n",
    "- It seems that proactive lifestyle has urged all type consumer to depend on frozen food products. So, this seems to be a crucial product segment to meet the need of both tyoe of the customers."
   ]
  },
  {
   "cell_type": "markdown",
   "metadata": {},
   "source": [
    "## Conclusions: Based on cluster analysis the wholesaler may take actions to identify the areas of improvements, more customer acquisition and future expansion plan as well"
   ]
  },
  {
   "cell_type": "markdown",
   "metadata": {},
   "source": [
    "#### Strategies for B2B customers:\n",
    "- The majority of the customers of this wholesaler are the business customers like Hotels/Restaurants/Café etc. As expansion strategy the wholesaler can look for more customers in region like Oporto after giving due diligence for the points such as - research if the market is already saturated in that region or not, research about the existing competitors in that region, population growth in that area etc.\n",
    "- This segment of customer spend significantly high amount on Fresh products in comparison to other products. At the same time, they also spend decent amount on Frozen items too. So, the wholesaler may want to build long term relationship/contract with the local distributors and food manufacturers to optimize it's inventory for these products. It will not only assure the regular replenishment of the items but also it will minimization the unnecessary storage.\n"
   ]
  },
  {
   "cell_type": "markdown",
   "metadata": {},
   "source": [
    "#### Strategies for B2C customers:\n",
    "- There is a scope of attracting more retail customers in regions like Lisbon and Oporto. The wholesaler may need to do research that specific region's market share by itself and by it's competitors. Region specific research on customers average income, send customized offers, electronic coupons generation, customized service like home delivery option, sales promotions, focus on advertisements, feedback from customers etc.\n",
    "\n",
    "- Most of the spending for this segment is for day-to-day items like - Grocery and Milk. At the same time, we also observed that such customers are depending on Frozen and ready-to-eat items as well.\n",
    "\n",
    "- Frozen items are consumed by both the type of the customers. The only difference is that there are few business customers who spend significantly high amount for Frozen items. It seems that proactive lifestyle has urged all type consumers to depend on frozen food products. So, this seems to be a crucial product category to meet the demand of both type of the customers.\n"
   ]
  },
  {
   "cell_type": "code",
   "execution_count": null,
   "metadata": {},
   "outputs": [],
   "source": []
  }
 ],
 "metadata": {
  "kernelspec": {
   "display_name": "Python 3",
   "language": "python",
   "name": "python3"
  },
  "language_info": {
   "codemirror_mode": {
    "name": "ipython",
    "version": 3
   },
   "file_extension": ".py",
   "mimetype": "text/x-python",
   "name": "python",
   "nbconvert_exporter": "python",
   "pygments_lexer": "ipython3",
   "version": "3.7.6"
  }
 },
 "nbformat": 4,
 "nbformat_minor": 4
}
